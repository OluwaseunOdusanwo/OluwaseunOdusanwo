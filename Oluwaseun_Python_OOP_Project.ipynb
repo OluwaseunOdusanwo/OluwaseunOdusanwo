{
  "cells": [
    {
      "cell_type": "code",
      "execution_count": null,
      "id": "28681e71",
      "metadata": {
        "id": "28681e71"
      },
      "outputs": [],
      "source": [
        "# A budget tracker that helps users manage expenses and income with categories and transactions."
      ]
    },
    {
      "cell_type": "code",
      "execution_count": null,
      "id": "2e3e386c",
      "metadata": {
        "colab": {
          "base_uri": "https://localhost:8080/"
        },
        "id": "2e3e386c",
        "outputId": "0ba8761e-21b5-4537-e7de-57854045b416"
      },
      "outputs": [
        {
          "output_type": "stream",
          "name": "stdout",
          "text": [
            "What is your initial balance: 200\n",
            "Enter a category (or type 'done' to proceed): food\n",
            "Is it an income or an expense? income\n",
            "Enter the amount for food: $40\n",
            "Enter a category (or type 'done' to proceed): done\n",
            "food Balance: $40.0\n",
            "Total Balance: $240.0\n"
          ]
        }
      ],
      "source": [
        "\n",
        "\n",
        "# Create class \"Category\"\n",
        "class Category:\n",
        "\n",
        "    #constructor\n",
        "    def __init__(self, name):\n",
        "        self.name = name\n",
        "        self.income_transactions = []\n",
        "        self.expense_transactions = []\n",
        "\n",
        "    #function to create and append transaction type\n",
        "    def add_transaction(self, amount, name, transaction_type):\n",
        "        if transaction_type == 'income':\n",
        "            self.income_transactions.append(Transaction(amount, name))\n",
        "        elif transaction_type == 'expense':\n",
        "            self.expense_transactions.append(Transaction(amount, name))\n",
        "        else:\n",
        "            print(\"Invalid transaction type. Please enter 'income' or 'expense'.\")\n",
        "\n",
        "    #function to calculate balance for each transaction type\n",
        "    def calculate_balance(self):\n",
        "        income_balance = sum(transaction.amount for transaction in self.income_transactions)\n",
        "        expense_balance = sum(transaction.amount for transaction in self.expense_transactions)\n",
        "        return income_balance - expense_balance\n",
        "\n",
        " # Create class \"Transaction\"\n",
        "class Transaction:\n",
        "    def __init__(self, amount, name):\n",
        "        self.amount = amount\n",
        "        self.name = name\n",
        "\n",
        "# Create class \"BudgetTracker\"\n",
        "class BudgetTracker:\n",
        "    def __init__(self, bal):\n",
        "        self.categories = []\n",
        "        self.bal = bal\n",
        "\n",
        "    #add category function\n",
        "    def add_category(self, category_name):\n",
        "        category = Category(category_name)\n",
        "        self.categories.append(category)\n",
        "        return category\n",
        "\n",
        "    def add_transaction(self, category, amount, transaction_name, transaction_type):\n",
        "        category.add_transaction(amount, transaction_name, transaction_type)\n",
        "\n",
        "    #View_balance function\n",
        "    def view_balance(self):\n",
        "        for category in self.categories:\n",
        "            category_balance = category.calculate_balance()\n",
        "            print(f\"{category.name} Balance: ${category_balance}\")\n",
        "            self.bal += category_balance\n",
        "        print(f\"Total Balance: ${self.bal}\")\n",
        "\n",
        "#user_flow\n",
        "while True:\n",
        "\n",
        "     # used ' float(input()) ' method to take input from user\n",
        "  try:\n",
        "    bal = float(input(\"What is your initial balance: \"))\n",
        "    budget_tracker = BudgetTracker(bal)\n",
        "    break\n",
        "  except:\n",
        "    print(\"Please, enter a valid amount\")\n",
        "    pass\n",
        "\n",
        "\n",
        "while True:\n",
        "    category_name = input(\"Enter a category (or type 'done' to proceed): \")\n",
        "    if category_name.lower() == 'done':\n",
        "        break\n",
        "\n",
        "    category = budget_tracker.add_category(category_name)\n",
        "\n",
        "    transaction_type = input(\"Is it an income or an expense? \").lower()\n",
        "\n",
        "    cost = float(input(f\"Enter the amount for {category_name}: $\"))\n",
        "\n",
        "    budget_tracker.add_transaction(category, cost, f\"{category_name} Transaction\", transaction_type)\n",
        "\n",
        "\n",
        "# View the final balance\n",
        "budget_tracker.view_balance()"
      ]
    },
    {
      "cell_type": "code",
      "source": [],
      "metadata": {
        "id": "SNNa_4rIZlSX"
      },
      "id": "SNNa_4rIZlSX",
      "execution_count": null,
      "outputs": []
    }
  ],
  "metadata": {
    "colab": {
      "provenance": []
    },
    "kernelspec": {
      "display_name": "Python 3 (ipykernel)",
      "language": "python",
      "name": "python3"
    },
    "language_info": {
      "codemirror_mode": {
        "name": "ipython",
        "version": 3
      },
      "file_extension": ".py",
      "mimetype": "text/x-python",
      "name": "python",
      "nbconvert_exporter": "python",
      "pygments_lexer": "ipython3",
      "version": "3.11.5"
    }
  },
  "nbformat": 4,
  "nbformat_minor": 5
}